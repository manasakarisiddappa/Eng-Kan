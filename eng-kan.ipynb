{
 "cells": [
  {
   "cell_type": "code",
   "execution_count": 1,
   "metadata": {},
   "outputs": [
    {
     "name": "stderr",
     "output_type": "stream",
     "text": [
      "Using TensorFlow backend.\n"
     ]
    }
   ],
   "source": [
    "import pandas as pd\n",
    "import numpy as np\n",
    "import string\n",
    "from string import digits\n",
    "import matplotlib.pyplot as plt\n",
    "%matplotlib inline\n",
    "import re\n",
    "from sklearn.utils import shuffle\n",
    "from sklearn.model_selection import train_test_split\n",
    "from keras.layers import Input, LSTM, Embedding, Dense\n",
    "from keras.models import Model\n",
    "import glob\n",
    "import nltk\n",
    "import re\n",
    "from bs4 import BeautifulSoup"
   ]
  },
  {
   "cell_type": "code",
   "execution_count": 2,
   "metadata": {},
   "outputs": [],
   "source": [
    "# Importing all the needed modules.\n",
    "import os\n",
    "from glob import glob\n",
    "import matplotlib.pyplot as plt\n",
    "import random\n",
    "import cv2\n",
    "import pandas as pd\n",
    "import numpy as np\n",
    "import matplotlib.gridspec as gridspec\n",
    "import seaborn as sns\n",
    "import zlib\n",
    "import itertools\n",
    "import sklearn\n",
    "import itertools\n",
    "import scipy\n",
    "import skimage\n",
    "from skimage.transform import resize\n",
    "import csv\n",
    "from tqdm import tqdm\n",
    "import warnings\n",
    "warnings.filterwarnings(\"ignore\")\n",
    "from sklearn import model_selection\n",
    "from sklearn.model_selection import train_test_split, KFold, cross_val_score, StratifiedKFold, GridSearchCV\n",
    "from sklearn.utils import class_weight\n",
    "from sklearn.metrics import confusion_matrix, make_scorer, accuracy_score, classification_report\n",
    "import keras\n",
    "from keras.layers import Embedding,Dense, Dropout, Activation, Flatten, Conv1D,Conv2D,MaxPooling1D,Concatenate, MaxPooling2D, Lambda, MaxPool2D, BatchNormalization\n",
    "from keras.utils import np_utils\n",
    "from keras.utils.np_utils import to_categorical\n",
    "from keras.preprocessing.image import ImageDataGenerator\n",
    "from keras import models, layers, optimizers\n",
    "from keras.engine.input_layer import Input\n",
    "from sklearn.model_selection import train_test_split\n",
    "from sklearn.metrics import confusion_matrix, accuracy_score\n",
    "from sklearn.utils import class_weight\n",
    "from keras.optimizers import SGD, RMSprop, Adam, Adagrad, Adadelta, RMSprop\n",
    "from keras.models import Sequential, model_from_json\n",
    "from keras.layers import Activation,Dense, Dropout, Flatten, Conv2D, MaxPool2D\n",
    "from keras.layers import MaxPooling2D,AveragePooling2D, GlobalAveragePooling2D,BatchNormalization\n",
    "from keras.preprocessing.image import array_to_img, img_to_array, load_img, ImageDataGenerator\n",
    "from keras.callbacks import ReduceLROnPlateau, ModelCheckpoint\n",
    "from keras import backend as K\n",
    "from keras.applications.vgg16 import VGG16\n",
    "from keras.models import Model\n",
    "from keras.applications.mobilenet import MobileNet\n",
    "from keras.applications.inception_v3 import InceptionV3\n",
    "from imblearn.over_sampling import RandomOverSampler\n",
    "from sklearn.metrics import roc_auc_score\n",
    "from sklearn.metrics import roc_curve\n",
    "from sklearn.metrics import auc\n",
    "%matplotlib inline\n",
    "import tensorflow as tf\n",
    "gpu_options = tf.GPUOptions(per_process_gpu_memory_fraction=0.555)\n",
    "\n",
    "sess = tf.Session(config=tf.ConfigProto(gpu_options=gpu_options))"
   ]
  },
  {
   "cell_type": "code",
   "execution_count": 3,
   "metadata": {},
   "outputs": [
    {
     "name": "stdout",
     "output_type": "stream",
     "text": [
      "WARNING *** OLE2 inconsistency: SSCS size is 0 but SSAT size is non-zero\n",
      "(24966, 2)\n"
     ]
    },
    {
     "data": {
      "text/html": [
       "<div>\n",
       "<style scoped>\n",
       "    .dataframe tbody tr th:only-of-type {\n",
       "        vertical-align: middle;\n",
       "    }\n",
       "\n",
       "    .dataframe tbody tr th {\n",
       "        vertical-align: top;\n",
       "    }\n",
       "\n",
       "    .dataframe thead th {\n",
       "        text-align: right;\n",
       "    }\n",
       "</style>\n",
       "<table border=\"1\" class=\"dataframe\">\n",
       "  <thead>\n",
       "    <tr style=\"text-align: right;\">\n",
       "      <th></th>\n",
       "      <th>eng</th>\n",
       "      <th>kan</th>\n",
       "    </tr>\n",
       "  </thead>\n",
       "  <tbody>\n",
       "    <tr>\n",
       "      <th>0</th>\n",
       "      <td>Firefox</td>\n",
       "      <td>ಫೈರ್ ಫಾಕ್ಸ್,ಫಾಯರಫಾಕ್ಸ</td>\n",
       "    </tr>\n",
       "    <tr>\n",
       "      <th>1</th>\n",
       "      <td>Mozilla Firefox</td>\n",
       "      <td>ಮೋಝಿಲಾ ಫಾಯರಫಾಕ್ಸ</td>\n",
       "    </tr>\n",
       "    <tr>\n",
       "      <th>2</th>\n",
       "      <td>Firefox Start, a fast home page with built-in ...</td>\n",
       "      <td>ಫಾಯರಫಾಕ್ಸ ಸುರು, ಜೋರಾದ ಮನೆ ಪುಟ, ಬಿಲ್ಟಿನ್ ಶೋಧವುಳ...</td>\n",
       "    </tr>\n",
       "    <tr>\n",
       "      <th>3</th>\n",
       "      <td>Import your home page from %S</td>\n",
       "      <td>%S ದಿಂದ ನಿಮ್ಮ ಹೋಮ್ ಪೇಜನ್ನು ಆಯಾತ ಮಾಡಬಹುದು</td>\n",
       "    </tr>\n",
       "    <tr>\n",
       "      <th>4</th>\n",
       "      <td>Home Page Selection</td>\n",
       "      <td>ಹೋಮ್ ಪೇಜ್ ಆಯ್ಕೆ</td>\n",
       "    </tr>\n",
       "    <tr>\n",
       "      <th>5</th>\n",
       "      <td>Please select the home page you wish to use</td>\n",
       "      <td>ನೀವು ಉಪಯೋಗಿಸಬೇಕಿರುವ ಹೋಮ್ ಪೇಜನ್ನು ಆರಿಸಿಕೊಳ್ಳಿ</td>\n",
       "    </tr>\n",
       "    <tr>\n",
       "      <th>6</th>\n",
       "      <td>Gort! Klaatu barada nikto!</td>\n",
       "      <td>Gort! Klaatu barada nikto</td>\n",
       "    </tr>\n",
       "    <tr>\n",
       "      <th>7</th>\n",
       "      <td>Welcome Humans!</td>\n",
       "      <td>ಸುಸ್ವಾಗತಃ ಮಾನವರೇ !</td>\n",
       "    </tr>\n",
       "    <tr>\n",
       "      <th>8</th>\n",
       "      <td>Please do not press this button again</td>\n",
       "      <td>ಈ ಬಟನ್ ಮತ್ತೆ ಒತ್ತಬೇಡಿ</td>\n",
       "    </tr>\n",
       "    <tr>\n",
       "      <th>9</th>\n",
       "      <td>About &amp;brandFullName</td>\n",
       "      <td>brandFullName; ಬಗ್ಗೆ,ಬಗ್ಗೆ &amp;brandFullName,bran...</td>\n",
       "    </tr>\n",
       "  </tbody>\n",
       "</table>\n",
       "</div>"
      ],
      "text/plain": [
       "                                                 eng  \\\n",
       "0                                            Firefox   \n",
       "1                                    Mozilla Firefox   \n",
       "2  Firefox Start, a fast home page with built-in ...   \n",
       "3                      Import your home page from %S   \n",
       "4                                Home Page Selection   \n",
       "5        Please select the home page you wish to use   \n",
       "6                         Gort! Klaatu barada nikto!   \n",
       "7                                    Welcome Humans!   \n",
       "8              Please do not press this button again   \n",
       "9                               About &brandFullName   \n",
       "\n",
       "                                                 kan  \n",
       "0                              ಫೈರ್ ಫಾಕ್ಸ್,ಫಾಯರಫಾಕ್ಸ  \n",
       "1                                   ಮೋಝಿಲಾ ಫಾಯರಫಾಕ್ಸ  \n",
       "2  ಫಾಯರಫಾಕ್ಸ ಸುರು, ಜೋರಾದ ಮನೆ ಪುಟ, ಬಿಲ್ಟಿನ್ ಶೋಧವುಳ...  \n",
       "3           %S ದಿಂದ ನಿಮ್ಮ ಹೋಮ್ ಪೇಜನ್ನು ಆಯಾತ ಮಾಡಬಹುದು  \n",
       "4                                    ಹೋಮ್ ಪೇಜ್ ಆಯ್ಕೆ  \n",
       "5       ನೀವು ಉಪಯೋಗಿಸಬೇಕಿರುವ ಹೋಮ್ ಪೇಜನ್ನು ಆರಿಸಿಕೊಳ್ಳಿ  \n",
       "6                          Gort! Klaatu barada nikto  \n",
       "7                                 ಸುಸ್ವಾಗತಃ ಮಾನವರೇ !  \n",
       "8                              ಈ ಬಟನ್ ಮತ್ತೆ ಒತ್ತಬೇಡಿ  \n",
       "9  brandFullName; ಬಗ್ಗೆ,ಬಗ್ಗೆ &brandFullName,bran...  "
      ]
     },
     "execution_count": 3,
     "metadata": {},
     "output_type": "execute_result"
    }
   ],
   "source": [
    "df = pd.read_excel(\"gcdr_kannada.xls\",names = ['eng', 'kan'])\n",
    "print(df.shape)\n",
    "df = df.dropna()\n",
    "df.head(10)"
   ]
  },
  {
   "cell_type": "code",
   "execution_count": 4,
   "metadata": {},
   "outputs": [],
   "source": [
    "exclude = set(string.punctuation) # Set of all special characters\n",
    "# Remove all the special characters\n",
    "df.eng = df.eng.apply(lambda x: ''.join(ch for ch in x if ch not in exclude))\n",
    "df.kan = df.kan.apply(lambda x: ''.join(ch for ch in x if ch not in exclude))"
   ]
  },
  {
   "cell_type": "code",
   "execution_count": 5,
   "metadata": {},
   "outputs": [],
   "source": [
    "eng = list(df.eng)\n",
    "kan = list(df.kan)"
   ]
  },
  {
   "cell_type": "markdown",
   "metadata": {},
   "source": [
    "## Pre-processing"
   ]
  },
  {
   "cell_type": "code",
   "execution_count": 6,
   "metadata": {},
   "outputs": [
    {
     "data": {
      "text/plain": [
       "(['firefox',\n",
       "  'mozilla firefox',\n",
       "  'firefox start a fast home page with builtin search'],\n",
       " 24963)"
      ]
     },
     "execution_count": 6,
     "metadata": {},
     "output_type": "execute_result"
    }
   ],
   "source": [
    "text = []\n",
    "for each in eng:\n",
    "    each = re.sub(r'[0-9]',\"\",each)\n",
    "    soup = BeautifulSoup(each)\n",
    "    txt = soup.get_text()\n",
    "    txt = txt.lower()\n",
    "    txt = re.sub(r'[\\n\\t\\-\\\\\\/\\|]',\" \",txt)\n",
    "    txt = re.sub(r\"[-()\\\"#/@;:<>{}`+=~|.!?,$%^&*'/+\\[\\]_]+\", \"\", txt)\n",
    "    txt = re.sub(r\" +\", \" \", txt)\n",
    "    text.append(txt)\n",
    "    \n",
    "text[0:3],len(text)"
   ]
  },
  {
   "cell_type": "code",
   "execution_count": 7,
   "metadata": {},
   "outputs": [
    {
     "data": {
      "text/plain": [
       "(['ಫೈರ್ ಫಾಕ್ಸ್ಫಾಯರಫಾಕ್ಸ',\n",
       "  'ಮೋಝಿಲಾ ಫಾಯರಫಾಕ್ಸ',\n",
       "  'ಫಾಯರಫಾಕ್ಸ ಸುರು ಜೋರಾದ ಮನೆ ಪುಟ ಬಿಲ್ಟಿನ್ ಶೋಧವುಳ್ಳದ್ದು'],\n",
       " 24963)"
      ]
     },
     "execution_count": 7,
     "metadata": {},
     "output_type": "execute_result"
    }
   ],
   "source": [
    "kan_text = []\n",
    "for each in kan:\n",
    "    txt = re.sub(r'[0-9]',\"\",each)\n",
    "    txt = re.sub(r'[೧೨೩೪೫೬೭೮೯]',\"\",txt)\n",
    "    txt = re.sub(r'[A-Za-z]',\"\",txt)\n",
    "    soup = BeautifulSoup(txt)\n",
    "    txt = soup.get_text()\n",
    "    txt = txt.lower()\n",
    "    txt = re.sub(r'[\\n\\t\\-\\\\\\/\\|]',\" \",txt)\n",
    "    txt = re.sub(r\"[-()\\\"#/@;:<>{}`+=~|.!?$%^&*'/+\\[\\]_]+\", \"\", txt)\n",
    "    txt = re.sub(r\",\", \" \", txt)\n",
    "    txt = re.sub(r\" +\", \" \", txt)\n",
    "    kan_text.append(txt)\n",
    "    \n",
    "    \n",
    "kan_text[0:3],len(kan_text)"
   ]
  },
  {
   "cell_type": "code",
   "execution_count": 8,
   "metadata": {},
   "outputs": [],
   "source": [
    "nt = ''\n",
    "\n",
    "final_kan = []\n",
    "final_eng = []\n",
    "\n",
    "for w in zip(text,kan_text):\n",
    "    if w[0] != nt and w[1] != nt:\n",
    "        final_eng.append(w[0])\n",
    "        final_kan.append(\"START_ \"+w[1]+\" _END\")"
   ]
  },
  {
   "cell_type": "code",
   "execution_count": 9,
   "metadata": {},
   "outputs": [
    {
     "data": {
      "text/plain": [
       "(['firefox',\n",
       "  'mozilla firefox',\n",
       "  'firefox start a fast home page with builtin search',\n",
       "  'import your home page from s',\n",
       "  'home page selection'],\n",
       " ['START_ ಫೈರ್ ಫಾಕ್ಸ್ಫಾಯರಫಾಕ್ಸ _END',\n",
       "  'START_ ಮೋಝಿಲಾ ಫಾಯರಫಾಕ್ಸ _END',\n",
       "  'START_ ಫಾಯರಫಾಕ್ಸ ಸುರು ಜೋರಾದ ಮನೆ ಪುಟ ಬಿಲ್ಟಿನ್ ಶೋಧವುಳ್ಳದ್ದು _END',\n",
       "  'START_ ದಿಂದ ನಿಮ್ಮ ಹೋಮ್ ಪೇಜನ್ನು ಆಯಾತ ಮಾಡಬಹುದು _END',\n",
       "  'START_ ಹೋಮ್ ಪೇಜ್ ಆಯ್ಕೆ _END'])"
      ]
     },
     "execution_count": 9,
     "metadata": {},
     "output_type": "execute_result"
    }
   ],
   "source": [
    "(final_eng[0:5],final_kan[0:5])"
   ]
  },
  {
   "cell_type": "code",
   "execution_count": 10,
   "metadata": {},
   "outputs": [
    {
     "name": "stdout",
     "output_type": "stream",
     "text": [
      "20068 3542 20068 3542\n"
     ]
    }
   ],
   "source": [
    "from sklearn.model_selection import train_test_split\n",
    "\n",
    "X_train, X_test, y_train, y_test = train_test_split(final_eng, final_kan, test_size=0.15)\n",
    "print(len(X_train),len(X_test),len(y_train),len(y_test))"
   ]
  },
  {
   "cell_type": "code",
   "execution_count": 12,
   "metadata": {},
   "outputs": [],
   "source": [
    "from tensorflow.keras.preprocessing.text import Tokenizer\n",
    "from tensorflow.keras.preprocessing.sequence import pad_sequences\n",
    "\n",
    "MAX_LEN_ENG = 50\n",
    "\n",
    "\n",
    "tokenizer = Tokenizer()\n",
    "tokenizer.fit_on_texts(X_train)\n",
    "seq_train = tokenizer.texts_to_sequences(X_train)\n",
    "seq_test = tokenizer.texts_to_sequences(X_test)\n",
    "dictionary = tokenizer.word_index\n",
    "\n",
    "word2idx = {}\n",
    "idx2word = {}\n",
    "for k, v in dictionary.items(): \n",
    "    word2idx[k] = v\n",
    "    idx2word[v] = k\n",
    "\n",
    "input_data_train = pad_sequences(seq_train, maxlen=MAX_LEN_ENG, dtype='int32', padding='post', truncating='post')\n",
    "input_data_test = pad_sequences(seq_test, maxlen=MAX_LEN_ENG, dtype='int32', padding='post', truncating='post')"
   ]
  },
  {
   "cell_type": "code",
   "execution_count": 13,
   "metadata": {},
   "outputs": [],
   "source": [
    "MAX_LEN_KAN = 50\n",
    "\n",
    "tokenizer = Tokenizer()\n",
    "tokenizer.fit_on_texts(y_train)\n",
    "seq_train_kan = tokenizer.texts_to_sequences(y_train)\n",
    "seq_test_kan = tokenizer.texts_to_sequences(y_test)\n",
    "dictionary_kan = tokenizer.word_index\n",
    "\n",
    "word2idx_kan = {}\n",
    "idx2word_kan = {}\n",
    "for k, v in dictionary_kan.items(): \n",
    "    word2idx_kan[k] = v\n",
    "    idx2word_kan[v] = k\n",
    "\n",
    "out_data_train = pad_sequences(seq_train_kan, maxlen=MAX_LEN_KAN, dtype='int32', padding='post', truncating='post')\n",
    "out_data_test = pad_sequences(seq_test_kan, maxlen=MAX_LEN_KAN, dtype='int32', padding='post', truncating='post')"
   ]
  },
  {
   "cell_type": "code",
   "execution_count": 14,
   "metadata": {},
   "outputs": [
    {
     "data": {
      "text/plain": [
       "21273"
      ]
     },
     "execution_count": 14,
     "metadata": {},
     "output_type": "execute_result"
    }
   ],
   "source": [
    "len(word2idx_kan)"
   ]
  },
  {
   "cell_type": "code",
   "execution_count": 15,
   "metadata": {},
   "outputs": [
    {
     "data": {
      "text/plain": [
       "(8387, 21274)"
      ]
     },
     "execution_count": 15,
     "metadata": {},
     "output_type": "execute_result"
    }
   ],
   "source": [
    "enc_tokens = len(word2idx); dec_tokens = len(word2idx_kan)+1\n",
    "enc_tokens, dec_tokens"
   ]
  },
  {
   "cell_type": "code",
   "execution_count": 16,
   "metadata": {},
   "outputs": [],
   "source": [
    "def generate_batch(X = input_data_train, y = out_data_train, batch_size = 32):\n",
    "    ''' Generate a batch of data '''\n",
    "    while True:\n",
    "        for j in range(0, len(X), batch_size):\n",
    "            encoder_input_data = np.zeros((batch_size, MAX_LEN_ENG),dtype='float32')\n",
    "            decoder_input_data = np.zeros((batch_size, MAX_LEN_KAN),dtype='float32')\n",
    "            decoder_target_data = np.zeros((batch_size, MAX_LEN_KAN, dec_tokens),dtype='float32')\n",
    "            for i, (input_text, target_text) in enumerate(zip(X[j:j+batch_size], y[j:j+batch_size])):\n",
    "                encoder_input_data[i] = input_text # encoder input seq\n",
    "                decoder_input_data[i] = target_text # decoder input seq\n",
    "                decoder_target_data[i][0:MAX_LEN_KAN-1] = tf.keras.utils.to_categorical(target_text[1:],dtype='float32',num_classes = dec_tokens)\n",
    "            yield([encoder_input_data, decoder_input_data], decoder_target_data)"
   ]
  },
  {
   "cell_type": "code",
   "execution_count": 17,
   "metadata": {},
   "outputs": [
    {
     "name": "stdout",
     "output_type": "stream",
     "text": [
      "(32, 50) (32, 50) (32, 50, 21274)\n"
     ]
    }
   ],
   "source": [
    "for i,j in generate_batch():\n",
    "    print(i[0].shape,i[1].shape,j.shape)\n",
    "    break"
   ]
  },
  {
   "cell_type": "markdown",
   "metadata": {},
   "source": [
    "## Model"
   ]
  },
  {
   "cell_type": "code",
   "execution_count": 20,
   "metadata": {},
   "outputs": [],
   "source": [
    "latent_dim = 50"
   ]
  },
  {
   "cell_type": "code",
   "execution_count": 65,
   "metadata": {},
   "outputs": [],
   "source": [
    "encoder_inputs = Input(shape=(None,))\n",
    "enc_emb =  Embedding(enc_tokens, latent_dim, mask_zero = True)(encoder_inputs)\n",
    "encoder_lstm = LSTM(latent_dim, return_state=True)\n",
    "encoder_outputs, state_h, state_c = encoder_lstm(enc_emb)\n",
    "# We discard `encoder_outputs` and only keep the states.\n",
    "encoder_states = [state_h, state_c]\n"
   ]
  },
  {
   "cell_type": "code",
   "execution_count": 66,
   "metadata": {},
   "outputs": [],
   "source": [
    "decoder_inputs = Input(shape=(None,))\n",
    "dec_emb_layer = Embedding(dec_tokens, latent_dim, mask_zero = True)\n",
    "dec_emb = dec_emb_layer(decoder_inputs)\n",
    "\n",
    "# We set up our decoder to return full output sequences,\n",
    "# and to return internal states as well. We don't use the\n",
    "# return states in the training model, but we will use them in inference.\n",
    "\n",
    "decoder_lstm = LSTM(latent_dim, return_sequences=True, return_state=True)\n",
    "decoder_outputs, _, _ = decoder_lstm(dec_emb,\n",
    "                                     initial_state=encoder_states)\n",
    "decoder_dense = Dense(dec_tokens, activation='softmax')\n",
    "decoder_outputs = decoder_dense(decoder_outputs)\n",
    "\n",
    "# Define the model that will turn\n",
    "# `encoder_input_data` & `decoder_input_data` into `decoder_target_data`\n",
    "model = Model([encoder_inputs, decoder_inputs], decoder_outputs)\n"
   ]
  },
  {
   "cell_type": "code",
   "execution_count": 67,
   "metadata": {},
   "outputs": [],
   "source": [
    "from keras.utils.vis_utils import plot_model\n",
    "plot_model(model, to_file='seq2seq_plot.png', show_shapes=True, show_layer_names=True)"
   ]
  },
  {
   "cell_type": "code",
   "execution_count": 68,
   "metadata": {
    "scrolled": true
   },
   "outputs": [
    {
     "data": {
      "image/png": "[encoded data removed]",
      "text/plain": [
       "<IPython.core.display.Image object>"
      ]
     },
     "execution_count": 68,
     "metadata": {
      "image/png": {
       "height": 258,
       "width": 484
      }
     },
     "output_type": "execute_result"
    }
   ],
   "source": [
    "from IPython.display import Image\n",
    "Image(retina=True, filename='seq2seq_plot.png')"
   ]
  },
  {
   "cell_type": "code",
   "execution_count": 69,
   "metadata": {},
   "outputs": [
    {
     "name": "stdout",
     "output_type": "stream",
     "text": [
      "__________________________________________________________________________________________________\n",
      "Layer (type)                    Output Shape         Param #     Connected to                     \n",
      "==================================================================================================\n",
      "input_10 (InputLayer)           (None, None)         0                                            \n",
      "__________________________________________________________________________________________________\n",
      "input_11 (InputLayer)           (None, None)         0                                            \n",
      "__________________________________________________________________________________________________\n",
      "embedding_4 (Embedding)         (None, None, 50)     419350      input_10[0][0]                   \n",
      "__________________________________________________________________________________________________\n",
      "embedding_5 (Embedding)         (None, None, 50)     1063700     input_11[0][0]                   \n",
      "__________________________________________________________________________________________________\n",
      "lstm_4 (LSTM)                   [(None, 50), (None,  20200       embedding_4[0][0]                \n",
      "__________________________________________________________________________________________________\n",
      "lstm_5 (LSTM)                   [(None, None, 50), ( 20200       embedding_5[0][0]                \n",
      "                                                                 lstm_4[0][1]                     \n",
      "                                                                 lstm_4[0][2]                     \n",
      "__________________________________________________________________________________________________\n",
      "dense_2 (Dense)                 (None, None, 21274)  1084974     lstm_5[0][0]                     \n",
      "==================================================================================================\n",
      "Total params: 2,608,424\n",
      "Trainable params: 2,608,424\n",
      "Non-trainable params: 0\n",
      "__________________________________________________________________________________________________\n"
     ]
    }
   ],
   "source": [
    "model.summary()"
   ]
  },
  {
   "cell_type": "code",
   "execution_count": 70,
   "metadata": {},
   "outputs": [],
   "source": [
    "model.load_weights(\"weights_engtokan.h5\")"
   ]
  },
  {
   "cell_type": "code",
   "execution_count": 27,
   "metadata": {},
   "outputs": [],
   "source": [
    "filepath=\"weights_engtokan.h5\"\n",
    "checkpoint = ModelCheckpoint(filepath, monitor='val_acc', verbose=1, save_best_only=True, mode='max')\n",
    "callbacks_list = [checkpoint]"
   ]
  },
  {
   "cell_type": "code",
   "execution_count": 28,
   "metadata": {},
   "outputs": [
    {
     "name": "stdout",
     "output_type": "stream",
     "text": [
      "WARNING:tensorflow:From /home/18mcmi04/anaconda3/lib/python3.7/site-packages/tensorflow/python/ops/math_ops.py:3066: to_int32 (from tensorflow.python.ops.math_ops) is deprecated and will be removed in a future version.\n",
      "Instructions for updating:\n",
      "Use tf.cast instead.\n",
      "WARNING:tensorflow:From /home/18mcmi04/anaconda3/lib/python3.7/site-packages/tensorflow/python/ops/math_grad.py:102: div (from tensorflow.python.ops.math_ops) is deprecated and will be removed in a future version.\n",
      "Instructions for updating:\n",
      "Deprecated in favor of operator or tf.math.divide.\n",
      "Epoch 1/100\n",
      "627/627 [==============================] - 390s 622ms/step - loss: 6.6794 - acc: 0.2613 - val_loss: 5.5477 - val_acc: 0.3391\n",
      "\n",
      "Epoch 00001: val_acc improved from -inf to 0.33913, saving model to weights_engtokan.h5\n",
      "Epoch 2/100\n",
      "627/627 [==============================] - 375s 599ms/step - loss: 5.9917 - acc: 0.3183 - val_loss: 5.4748 - val_acc: 0.3351\n",
      "\n",
      "Epoch 00002: val_acc did not improve from 0.33913\n",
      "Epoch 3/100\n",
      "627/627 [==============================] - 384s 612ms/step - loss: 5.8350 - acc: 0.3203 - val_loss: 5.4569 - val_acc: 0.3363\n",
      "\n",
      "Epoch 00003: val_acc did not improve from 0.33913\n",
      "Epoch 4/100\n",
      "627/627 [==============================] - 376s 600ms/step - loss: 5.7293 - acc: 0.3235 - val_loss: 5.4140 - val_acc: 0.3573\n",
      "\n",
      "Epoch 00004: val_acc improved from 0.33913 to 0.35734, saving model to weights_engtokan.h5\n",
      "Epoch 5/100\n",
      "627/627 [==============================] - 375s 598ms/step - loss: 5.6349 - acc: 0.3261 - val_loss: 5.3825 - val_acc: 0.3566\n",
      "\n",
      "Epoch 00005: val_acc did not improve from 0.35734\n",
      "Epoch 6/100\n",
      "627/627 [==============================] - 371s 592ms/step - loss: 5.5438 - acc: 0.3283 - val_loss: 5.3846 - val_acc: 0.3518\n",
      "\n",
      "Epoch 00006: val_acc did not improve from 0.35734\n",
      "Epoch 7/100\n",
      "627/627 [==============================] - 368s 587ms/step - loss: 5.4702 - acc: 0.3309 - val_loss: 5.3849 - val_acc: 0.3524\n",
      "\n",
      "Epoch 00007: val_acc did not improve from 0.35734\n",
      "Epoch 8/100\n",
      "627/627 [==============================] - 373s 595ms/step - loss: 5.4012 - acc: 0.3337 - val_loss: 5.3718 - val_acc: 0.3537\n",
      "\n",
      "Epoch 00008: val_acc did not improve from 0.35734\n",
      "Epoch 9/100\n",
      "627/627 [==============================] - 371s 592ms/step - loss: 5.3305 - acc: 0.3371 - val_loss: 5.3615 - val_acc: 0.3473\n",
      "\n",
      "Epoch 00009: val_acc did not improve from 0.35734\n",
      "Epoch 10/100\n",
      "627/627 [==============================] - 322s 514ms/step - loss: 5.2642 - acc: 0.3410 - val_loss: 5.3128 - val_acc: 0.3593\n",
      "\n",
      "Epoch 00010: val_acc improved from 0.35734 to 0.35925, saving model to weights_engtokan.h5\n",
      "Epoch 11/100\n",
      "627/627 [==============================] - 272s 434ms/step - loss: 5.1925 - acc: 0.3458 - val_loss: 5.2575 - val_acc: 0.3647\n",
      "\n",
      "Epoch 00011: val_acc improved from 0.35925 to 0.36468, saving model to weights_engtokan.h5\n",
      "Epoch 12/100\n",
      "627/627 [==============================] - 270s 431ms/step - loss: 5.1220 - acc: 0.3509 - val_loss: 5.2307 - val_acc: 0.3679\n",
      "\n",
      "Epoch 00012: val_acc improved from 0.36468 to 0.36789, saving model to weights_engtokan.h5\n",
      "Epoch 13/100\n",
      "627/627 [==============================] - 271s 433ms/step - loss: 5.0674 - acc: 0.3561 - val_loss: 5.1980 - val_acc: 0.3725\n",
      "\n",
      "Epoch 00013: val_acc improved from 0.36789 to 0.37254, saving model to weights_engtokan.h5\n",
      "Epoch 14/100\n",
      "627/627 [==============================] - 270s 430ms/step - loss: 5.0217 - acc: 0.3614 - val_loss: 5.1802 - val_acc: 0.3724\n",
      "\n",
      "Epoch 00014: val_acc did not improve from 0.37254\n",
      "Epoch 15/100\n",
      "627/627 [==============================] - 268s 427ms/step - loss: 4.9827 - acc: 0.3664 - val_loss: 5.1586 - val_acc: 0.3777\n",
      "\n",
      "Epoch 00015: val_acc improved from 0.37254 to 0.37768, saving model to weights_engtokan.h5\n",
      "Epoch 16/100\n",
      "627/627 [==============================] - 271s 433ms/step - loss: 4.9579 - acc: 0.3707 - val_loss: 5.1266 - val_acc: 0.3827\n",
      "\n",
      "Epoch 00016: val_acc improved from 0.37768 to 0.38269, saving model to weights_engtokan.h5\n",
      "Epoch 17/100\n",
      "627/627 [==============================] - 271s 433ms/step - loss: 4.9589 - acc: 0.3745 - val_loss: 5.0968 - val_acc: 0.3880\n",
      "\n",
      "Epoch 00017: val_acc improved from 0.38269 to 0.38801, saving model to weights_engtokan.h5\n",
      "Epoch 18/100\n",
      "627/627 [==============================] - 267s 426ms/step - loss: 4.9717 - acc: 0.3780 - val_loss: 5.0812 - val_acc: 0.3903\n",
      "\n",
      "Epoch 00018: val_acc improved from 0.38801 to 0.39031, saving model to weights_engtokan.h5\n",
      "Epoch 19/100\n",
      "627/627 [==============================] - 267s 425ms/step - loss: 4.9729 - acc: 0.3819 - val_loss: 5.0533 - val_acc: 0.3917\n",
      "\n",
      "Epoch 00019: val_acc improved from 0.39031 to 0.39171, saving model to weights_engtokan.h5\n",
      "Epoch 20/100\n",
      "627/627 [==============================] - 263s 419ms/step - loss: 4.9504 - acc: 0.3860 - val_loss: 5.0432 - val_acc: 0.3925\n",
      "\n",
      "Epoch 00020: val_acc improved from 0.39171 to 0.39253, saving model to weights_engtokan.h5\n",
      "Epoch 21/100\n",
      "627/627 [==============================] - 265s 422ms/step - loss: 4.9569 - acc: 0.3904 - val_loss: 5.0536 - val_acc: 0.3948\n",
      "\n",
      "Epoch 00021: val_acc improved from 0.39253 to 0.39478, saving model to weights_engtokan.h5\n",
      "Epoch 22/100\n",
      "627/627 [==============================] - 265s 423ms/step - loss: 4.9962 - acc: 0.3949 - val_loss: 5.0711 - val_acc: 0.3969\n",
      "\n",
      "Epoch 00022: val_acc improved from 0.39478 to 0.39693, saving model to weights_engtokan.h5\n",
      "Epoch 23/100\n",
      "627/627 [==============================] - 270s 430ms/step - loss: 5.0359 - acc: 0.3983 - val_loss: 5.0954 - val_acc: 0.3970\n",
      "\n",
      "Epoch 00023: val_acc improved from 0.39693 to 0.39704, saving model to weights_engtokan.h5\n",
      "Epoch 24/100\n",
      "627/627 [==============================] - 371s 592ms/step - loss: 5.0739 - acc: 0.4010 - val_loss: 5.1156 - val_acc: 0.3964\n",
      "\n",
      "Epoch 00024: val_acc did not improve from 0.39704\n",
      "Epoch 25/100\n",
      "627/627 [==============================] - 377s 602ms/step - loss: 5.1070 - acc: 0.4044 - val_loss: 5.1209 - val_acc: 0.3971\n",
      "\n",
      "Epoch 00025: val_acc improved from 0.39704 to 0.39712, saving model to weights_engtokan.h5\n",
      "Epoch 26/100\n",
      "627/627 [==============================] - 380s 606ms/step - loss: 5.1387 - acc: 0.4072 - val_loss: 5.1439 - val_acc: 0.3973\n",
      "\n",
      "Epoch 00026: val_acc improved from 0.39712 to 0.39725, saving model to weights_engtokan.h5\n",
      "Epoch 27/100\n",
      "627/627 [==============================] - 377s 602ms/step - loss: 5.1594 - acc: 0.4094 - val_loss: 5.1491 - val_acc: 0.3977\n",
      "\n",
      "Epoch 00027: val_acc improved from 0.39725 to 0.39775, saving model to weights_engtokan.h5\n",
      "Epoch 28/100\n",
      "627/627 [==============================] - 373s 594ms/step - loss: 5.1772 - acc: 0.4121 - val_loss: 5.1447 - val_acc: 0.3989\n",
      "\n",
      "Epoch 00028: val_acc improved from 0.39775 to 0.39893, saving model to weights_engtokan.h5\n",
      "Epoch 29/100\n",
      "627/627 [==============================] - 372s 594ms/step - loss: 5.1903 - acc: 0.4140 - val_loss: 5.1400 - val_acc: 0.4010\n",
      "\n",
      "Epoch 00029: val_acc improved from 0.39893 to 0.40096, saving model to weights_engtokan.h5\n",
      "Epoch 30/100\n",
      "627/627 [==============================] - 368s 587ms/step - loss: 5.1994 - acc: 0.4163 - val_loss: 5.1376 - val_acc: 0.4011\n",
      "\n",
      "Epoch 00030: val_acc improved from 0.40096 to 0.40110, saving model to weights_engtokan.h5\n",
      "Epoch 31/100\n",
      "627/627 [==============================] - 370s 589ms/step - loss: 5.2042 - acc: 0.4180 - val_loss: 5.1360 - val_acc: 0.4016\n",
      "\n",
      "Epoch 00031: val_acc improved from 0.40110 to 0.40155, saving model to weights_engtokan.h5\n",
      "Epoch 32/100\n",
      "627/627 [==============================] - 370s 590ms/step - loss: 5.2070 - acc: 0.4211 - val_loss: 5.1438 - val_acc: 0.4011\n",
      "\n",
      "Epoch 00032: val_acc did not improve from 0.40155\n",
      "Epoch 33/100\n",
      "627/627 [==============================] - 372s 593ms/step - loss: 5.2081 - acc: 0.4230 - val_loss: 5.1201 - val_acc: 0.4057\n",
      "\n",
      "Epoch 00033: val_acc improved from 0.40155 to 0.40570, saving model to weights_engtokan.h5\n",
      "Epoch 34/100\n",
      "627/627 [==============================] - 371s 591ms/step - loss: 5.2045 - acc: 0.4247 - val_loss: 5.1155 - val_acc: 0.4057\n",
      "\n",
      "Epoch 00034: val_acc improved from 0.40570 to 0.40572, saving model to weights_engtokan.h5\n",
      "Epoch 35/100\n",
      "627/627 [==============================] - 342s 546ms/step - loss: 5.2037 - acc: 0.4274 - val_loss: 5.1011 - val_acc: 0.4067\n",
      "\n",
      "Epoch 00035: val_acc improved from 0.40572 to 0.40667, saving model to weights_engtokan.h5\n",
      "Epoch 36/100\n"
     ]
    },
    {
     "name": "stdout",
     "output_type": "stream",
     "text": [
      "627/627 [==============================] - 266s 425ms/step - loss: 5.1963 - acc: 0.4286 - val_loss: 5.1174 - val_acc: 0.4080\n",
      "\n",
      "Epoch 00036: val_acc improved from 0.40667 to 0.40800, saving model to weights_engtokan.h5\n",
      "Epoch 37/100\n",
      "627/627 [==============================] - 268s 427ms/step - loss: 5.1844 - acc: 0.4310 - val_loss: 5.1105 - val_acc: 0.4069\n",
      "\n",
      "Epoch 00037: val_acc did not improve from 0.40800\n",
      "Epoch 38/100\n",
      "627/627 [==============================] - 270s 430ms/step - loss: 5.1725 - acc: 0.4332 - val_loss: 5.1079 - val_acc: 0.4097\n",
      "\n",
      "Epoch 00038: val_acc improved from 0.40800 to 0.40973, saving model to weights_engtokan.h5\n",
      "Epoch 39/100\n",
      "627/627 [==============================] - 272s 434ms/step - loss: 5.1590 - acc: 0.4351 - val_loss: 5.1004 - val_acc: 0.4109\n",
      "\n",
      "Epoch 00039: val_acc improved from 0.40973 to 0.41086, saving model to weights_engtokan.h5\n",
      "Epoch 40/100\n",
      "627/627 [==============================] - 270s 431ms/step - loss: 5.1460 - acc: 0.4369 - val_loss: 5.0942 - val_acc: 0.4113\n",
      "\n",
      "Epoch 00040: val_acc improved from 0.41086 to 0.41130, saving model to weights_engtokan.h5\n",
      "Epoch 41/100\n",
      "627/627 [==============================] - 266s 425ms/step - loss: 5.1320 - acc: 0.4388 - val_loss: 5.0973 - val_acc: 0.4105\n",
      "\n",
      "Epoch 00041: val_acc did not improve from 0.41130\n",
      "Epoch 42/100\n",
      "627/627 [==============================] - 262s 419ms/step - loss: 5.1159 - acc: 0.4413 - val_loss: 5.0955 - val_acc: 0.4099\n",
      "\n",
      "Epoch 00042: val_acc did not improve from 0.41130\n",
      "Epoch 43/100\n",
      "627/627 [==============================] - 268s 427ms/step - loss: 5.1008 - acc: 0.4434 - val_loss: 5.0794 - val_acc: 0.4119\n",
      "\n",
      "Epoch 00043: val_acc improved from 0.41130 to 0.41189, saving model to weights_engtokan.h5\n",
      "Epoch 44/100\n",
      "627/627 [==============================] - 265s 423ms/step - loss: 5.0828 - acc: 0.4457 - val_loss: 5.0658 - val_acc: 0.4144\n",
      "\n",
      "Epoch 00044: val_acc improved from 0.41189 to 0.41443, saving model to weights_engtokan.h5\n",
      "Epoch 45/100\n",
      "627/627 [==============================] - 269s 430ms/step - loss: 5.0703 - acc: 0.4469 - val_loss: 5.0744 - val_acc: 0.4123\n",
      "\n",
      "Epoch 00045: val_acc did not improve from 0.41443\n",
      "Epoch 46/100\n",
      "627/627 [==============================] - 269s 430ms/step - loss: 5.0579 - acc: 0.4485 - val_loss: 5.0772 - val_acc: 0.4141\n",
      "\n",
      "Epoch 00046: val_acc did not improve from 0.41443\n",
      "Epoch 47/100\n",
      "627/627 [==============================] - 274s 436ms/step - loss: 5.0413 - acc: 0.4511 - val_loss: 5.0658 - val_acc: 0.4155\n",
      "\n",
      "Epoch 00047: val_acc improved from 0.41443 to 0.41548, saving model to weights_engtokan.h5\n",
      "Epoch 48/100\n",
      "627/627 [==============================] - 268s 428ms/step - loss: 5.0313 - acc: 0.4521 - val_loss: 5.0778 - val_acc: 0.4138\n",
      "\n",
      "Epoch 00048: val_acc did not improve from 0.41548\n",
      "Epoch 49/100\n",
      "627/627 [==============================] - 340s 543ms/step - loss: 5.0169 - acc: 0.4539 - val_loss: 5.0703 - val_acc: 0.4146\n",
      "\n",
      "Epoch 00049: val_acc did not improve from 0.41548\n",
      "Epoch 50/100\n",
      "627/627 [==============================] - 379s 604ms/step - loss: 5.0049 - acc: 0.4551 - val_loss: 5.0716 - val_acc: 0.4140\n",
      "\n",
      "Epoch 00050: val_acc did not improve from 0.41548\n",
      "Epoch 51/100\n",
      "627/627 [==============================] - 376s 599ms/step - loss: 4.9930 - acc: 0.4567 - val_loss: 5.0672 - val_acc: 0.4144\n",
      "\n",
      "Epoch 00051: val_acc did not improve from 0.41548\n",
      "Epoch 52/100\n",
      "627/627 [==============================] - 374s 597ms/step - loss: 4.9813 - acc: 0.4583 - val_loss: 5.0695 - val_acc: 0.4152\n",
      "\n",
      "Epoch 00052: val_acc did not improve from 0.41548\n",
      "Epoch 53/100\n",
      "627/627 [==============================] - 377s 602ms/step - loss: 4.9693 - acc: 0.4601 - val_loss: 5.0762 - val_acc: 0.4133\n",
      "\n",
      "Epoch 00053: val_acc did not improve from 0.41548\n",
      "Epoch 54/100\n",
      "627/627 [==============================] - 372s 594ms/step - loss: 4.9577 - acc: 0.4612 - val_loss: 5.0595 - val_acc: 0.4158\n",
      "\n",
      "Epoch 00054: val_acc improved from 0.41548 to 0.41578, saving model to weights_engtokan.h5\n",
      "Epoch 55/100\n",
      "627/627 [==============================] - 375s 599ms/step - loss: 4.9477 - acc: 0.4626 - val_loss: 5.0775 - val_acc: 0.4144\n",
      "\n",
      "Epoch 00055: val_acc did not improve from 0.41578\n",
      "Epoch 56/100\n",
      "627/627 [==============================] - 379s 605ms/step - loss: 4.9408 - acc: 0.4637 - val_loss: 5.0678 - val_acc: 0.4167\n",
      "\n",
      "Epoch 00056: val_acc improved from 0.41578 to 0.41666, saving model to weights_engtokan.h5\n",
      "Epoch 57/100\n",
      "627/627 [==============================] - 375s 599ms/step - loss: 4.9324 - acc: 0.4653 - val_loss: 5.0869 - val_acc: 0.4162\n",
      "\n",
      "Epoch 00057: val_acc did not improve from 0.41666\n",
      "Epoch 58/100\n",
      "627/627 [==============================] - 371s 592ms/step - loss: 4.9222 - acc: 0.4665 - val_loss: 5.0735 - val_acc: 0.4166\n",
      "\n",
      "Epoch 00058: val_acc did not improve from 0.41666\n",
      "Epoch 59/100\n",
      "627/627 [==============================] - 367s 585ms/step - loss: 4.9132 - acc: 0.4674 - val_loss: 5.0817 - val_acc: 0.4143\n",
      "\n",
      "Epoch 00059: val_acc did not improve from 0.41666\n",
      "Epoch 60/100\n",
      "627/627 [==============================] - 370s 590ms/step - loss: 4.9083 - acc: 0.4686 - val_loss: 5.0820 - val_acc: 0.4172\n",
      "\n",
      "Epoch 00060: val_acc improved from 0.41666 to 0.41724, saving model to weights_engtokan.h5\n",
      "Epoch 61/100\n",
      "627/627 [==============================] - 287s 458ms/step - loss: 4.9017 - acc: 0.4696 - val_loss: 5.0931 - val_acc: 0.4151\n",
      "\n",
      "Epoch 00061: val_acc did not improve from 0.41724\n",
      "Epoch 62/100\n",
      "627/627 [==============================] - 273s 436ms/step - loss: 4.8927 - acc: 0.4716 - val_loss: 5.0830 - val_acc: 0.4157\n",
      "\n",
      "Epoch 00062: val_acc did not improve from 0.41724\n",
      "Epoch 63/100\n",
      "627/627 [==============================] - 272s 433ms/step - loss: 4.8856 - acc: 0.4722 - val_loss: 5.0881 - val_acc: 0.4178\n",
      "\n",
      "Epoch 00063: val_acc improved from 0.41724 to 0.41777, saving model to weights_engtokan.h5\n",
      "Epoch 64/100\n",
      "627/627 [==============================] - 267s 426ms/step - loss: 4.8773 - acc: 0.4731 - val_loss: 5.1048 - val_acc: 0.4150\n",
      "\n",
      "Epoch 00064: val_acc did not improve from 0.41777\n",
      "Epoch 65/100\n",
      "627/627 [==============================] - 269s 429ms/step - loss: 4.8682 - acc: 0.4745 - val_loss: 5.0888 - val_acc: 0.4174\n",
      "\n",
      "Epoch 00065: val_acc did not improve from 0.41777\n",
      "Epoch 66/100\n",
      "627/627 [==============================] - 272s 433ms/step - loss: 4.8616 - acc: 0.4755 - val_loss: 5.0988 - val_acc: 0.4149\n",
      "\n",
      "Epoch 00066: val_acc did not improve from 0.41777\n",
      "Epoch 67/100\n",
      "627/627 [==============================] - 270s 431ms/step - loss: 4.8571 - acc: 0.4762 - val_loss: 5.0986 - val_acc: 0.4165\n",
      "\n",
      "Epoch 00067: val_acc did not improve from 0.41777\n",
      "Epoch 68/100\n",
      "627/627 [==============================] - 263s 419ms/step - loss: 4.8507 - acc: 0.4777 - val_loss: 5.1009 - val_acc: 0.4178\n",
      "\n",
      "Epoch 00068: val_acc improved from 0.41777 to 0.41784, saving model to weights_engtokan.h5\n",
      "Epoch 69/100\n",
      "627/627 [==============================] - 267s 425ms/step - loss: 4.8429 - acc: 0.4781 - val_loss: 5.1039 - val_acc: 0.4168\n",
      "\n",
      "Epoch 00069: val_acc did not improve from 0.41784\n",
      "Epoch 70/100\n",
      "627/627 [==============================] - 267s 426ms/step - loss: 4.8405 - acc: 0.4784 - val_loss: 5.0849 - val_acc: 0.4185\n",
      "\n",
      "Epoch 00070: val_acc improved from 0.41784 to 0.41854, saving model to weights_engtokan.h5\n",
      "Epoch 71/100\n",
      "627/627 [==============================] - 271s 433ms/step - loss: 4.8357 - acc: 0.4800 - val_loss: 5.1006 - val_acc: 0.4166\n",
      "\n",
      "Epoch 00071: val_acc did not improve from 0.41854\n",
      "Epoch 72/100\n",
      "627/627 [==============================] - 271s 433ms/step - loss: 4.8320 - acc: 0.4806 - val_loss: 5.1006 - val_acc: 0.4178\n",
      "\n",
      "Epoch 00072: val_acc did not improve from 0.41854\n",
      "Epoch 73/100\n",
      "627/627 [==============================] - 274s 437ms/step - loss: 4.8269 - acc: 0.4808 - val_loss: 5.1023 - val_acc: 0.4172\n",
      "\n",
      "Epoch 00073: val_acc did not improve from 0.41854\n",
      "Epoch 74/100\n",
      "627/627 [==============================] - 318s 508ms/step - loss: 4.8210 - acc: 0.4822 - val_loss: 5.0948 - val_acc: 0.4169\n",
      "\n",
      "Epoch 00074: val_acc did not improve from 0.41854\n",
      "Epoch 75/100\n",
      "627/627 [==============================] - 370s 591ms/step - loss: 4.8162 - acc: 0.4829 - val_loss: 5.1106 - val_acc: 0.4153\n",
      "\n",
      "Epoch 00075: val_acc did not improve from 0.41854\n",
      "Epoch 76/100\n",
      "627/627 [==============================] - 372s 594ms/step - loss: 4.8124 - acc: 0.4837 - val_loss: 5.1161 - val_acc: 0.4162\n"
     ]
    },
    {
     "name": "stdout",
     "output_type": "stream",
     "text": [
      "\n",
      "Epoch 00076: val_acc did not improve from 0.41854\n",
      "Epoch 77/100\n",
      "627/627 [==============================] - 371s 592ms/step - loss: 4.8080 - acc: 0.4850 - val_loss: 5.1059 - val_acc: 0.4145\n",
      "\n",
      "Epoch 00077: val_acc did not improve from 0.41854\n",
      "Epoch 78/100\n",
      "627/627 [==============================] - 370s 590ms/step - loss: 4.8031 - acc: 0.4857 - val_loss: 5.1154 - val_acc: 0.4129\n",
      "\n",
      "Epoch 00078: val_acc did not improve from 0.41854\n",
      "Epoch 79/100\n",
      "627/627 [==============================] - 376s 600ms/step - loss: 4.7985 - acc: 0.4863 - val_loss: 5.1148 - val_acc: 0.4143\n",
      "\n",
      "Epoch 00079: val_acc did not improve from 0.41854\n",
      "Epoch 80/100\n",
      "627/627 [==============================] - 365s 583ms/step - loss: 4.7933 - acc: 0.4871 - val_loss: 5.1181 - val_acc: 0.4144\n",
      "\n",
      "Epoch 00080: val_acc did not improve from 0.41854\n",
      "Epoch 81/100\n",
      "627/627 [==============================] - 362s 578ms/step - loss: 4.7891 - acc: 0.4878 - val_loss: 5.1084 - val_acc: 0.4148\n",
      "\n",
      "Epoch 00081: val_acc did not improve from 0.41854\n",
      "Epoch 82/100\n",
      "627/627 [==============================] - 367s 585ms/step - loss: 4.7874 - acc: 0.4883 - val_loss: 5.1243 - val_acc: 0.4143\n",
      "\n",
      "Epoch 00082: val_acc did not improve from 0.41854\n",
      "Epoch 83/100\n",
      "627/627 [==============================] - 371s 592ms/step - loss: 4.7820 - acc: 0.4895 - val_loss: 5.0998 - val_acc: 0.4149\n",
      "\n",
      "Epoch 00083: val_acc did not improve from 0.41854\n",
      "Epoch 84/100\n",
      "627/627 [==============================] - 370s 591ms/step - loss: 4.7812 - acc: 0.4903 - val_loss: 5.1117 - val_acc: 0.4129\n",
      "\n",
      "Epoch 00084: val_acc did not improve from 0.41854\n",
      "Epoch 85/100\n",
      "627/627 [==============================] - 369s 589ms/step - loss: 4.7773 - acc: 0.4906 - val_loss: 5.1132 - val_acc: 0.4142\n",
      "\n",
      "Epoch 00085: val_acc did not improve from 0.41854\n",
      "Epoch 86/100\n",
      "627/627 [==============================] - 337s 537ms/step - loss: 4.7704 - acc: 0.4915 - val_loss: 5.1118 - val_acc: 0.4142\n",
      "\n",
      "Epoch 00086: val_acc did not improve from 0.41854\n",
      "Epoch 87/100\n",
      "627/627 [==============================] - 269s 429ms/step - loss: 4.7712 - acc: 0.4917 - val_loss: 5.1076 - val_acc: 0.4143\n",
      "\n",
      "Epoch 00087: val_acc did not improve from 0.41854\n",
      "Epoch 88/100\n",
      "627/627 [==============================] - 271s 433ms/step - loss: 4.7668 - acc: 0.4924 - val_loss: 5.1190 - val_acc: 0.4143\n",
      "\n",
      "Epoch 00088: val_acc did not improve from 0.41854\n",
      "Epoch 89/100\n",
      "627/627 [==============================] - 270s 431ms/step - loss: 4.7632 - acc: 0.4933 - val_loss: 5.1292 - val_acc: 0.4127\n",
      "\n",
      "Epoch 00089: val_acc did not improve from 0.41854\n",
      "Epoch 90/100\n",
      "627/627 [==============================] - 272s 433ms/step - loss: 4.7605 - acc: 0.4942 - val_loss: 5.1303 - val_acc: 0.4110\n",
      "\n",
      "Epoch 00090: val_acc did not improve from 0.41854\n",
      "Epoch 91/100\n",
      "627/627 [==============================] - 271s 433ms/step - loss: 4.7538 - acc: 0.4951 - val_loss: 5.1324 - val_acc: 0.4130\n",
      "\n",
      "Epoch 00091: val_acc did not improve from 0.41854\n",
      "Epoch 92/100\n",
      "627/627 [==============================] - 271s 433ms/step - loss: 4.7502 - acc: 0.4960 - val_loss: 5.1267 - val_acc: 0.4141\n",
      "\n",
      "Epoch 00092: val_acc did not improve from 0.41854\n",
      "Epoch 93/100\n",
      "627/627 [==============================] - 273s 436ms/step - loss: 4.7492 - acc: 0.4960 - val_loss: 5.1461 - val_acc: 0.4111\n",
      "\n",
      "Epoch 00093: val_acc did not improve from 0.41854\n",
      "Epoch 94/100\n",
      "627/627 [==============================] - 270s 430ms/step - loss: 4.7407 - acc: 0.4975 - val_loss: 5.1435 - val_acc: 0.4128\n",
      "\n",
      "Epoch 00094: val_acc did not improve from 0.41854\n",
      "Epoch 95/100\n",
      "627/627 [==============================] - 269s 429ms/step - loss: 4.7405 - acc: 0.4973 - val_loss: 5.1481 - val_acc: 0.4124\n",
      "\n",
      "Epoch 00095: val_acc did not improve from 0.41854\n",
      "Epoch 96/100\n",
      "627/627 [==============================] - 268s 428ms/step - loss: 4.7374 - acc: 0.4985 - val_loss: 5.1536 - val_acc: 0.4111\n",
      "\n",
      "Epoch 00096: val_acc did not improve from 0.41854\n",
      "Epoch 97/100\n",
      "627/627 [==============================] - 264s 422ms/step - loss: 4.7318 - acc: 0.4991 - val_loss: 5.1430 - val_acc: 0.4125\n",
      "\n",
      "Epoch 00097: val_acc did not improve from 0.41854\n",
      "Epoch 98/100\n",
      "627/627 [==============================] - 259s 412ms/step - loss: 4.7297 - acc: 0.4996 - val_loss: 5.1583 - val_acc: 0.4107\n",
      "\n",
      "Epoch 00098: val_acc did not improve from 0.41854\n",
      "Epoch 99/100\n",
      "627/627 [==============================] - 264s 421ms/step - loss: 4.7274 - acc: 0.5003 - val_loss: 5.1388 - val_acc: 0.4113\n",
      "\n",
      "Epoch 00099: val_acc did not improve from 0.41854\n",
      "Epoch 100/100\n",
      "627/627 [==============================] - 352s 561ms/step - loss: 4.7240 - acc: 0.5005 - val_loss: 5.1350 - val_acc: 0.4135\n",
      "\n",
      "Epoch 00100: val_acc did not improve from 0.41854\n"
     ]
    }
   ],
   "source": [
    "model.compile(optimizer='rmsprop', loss='categorical_crossentropy', metrics=['acc'])\n",
    "batch_size = 32\n",
    "history = model.fit_generator(generator = generate_batch(input_data_train, out_data_train, batch_size = batch_size),\n",
    "                    steps_per_epoch = len(input_data_train)//batch_size,\n",
    "                    epochs= 100,\n",
    "                    validation_data = generate_batch(input_data_test, out_data_test, batch_size = batch_size),\n",
    "                    validation_steps = len(input_data_test)//batch_size,callbacks=callbacks_list)"
   ]
  },
  {
   "cell_type": "code",
   "execution_count": 29,
   "metadata": {},
   "outputs": [],
   "source": [
    "model.load_weights('weights_engtokan.h5')"
   ]
  },
  {
   "cell_type": "code",
   "execution_count": 71,
   "metadata": {},
   "outputs": [],
   "source": [
    "encoder_model = Model(encoder_inputs, encoder_states)\n",
    "\n",
    "# Decoder setup\n",
    "# Below tensors will hold the states of the previous time step\n",
    "decoder_state_input_h = Input(shape=(None,))\n",
    "decoder_state_input_c = Input(shape=(None,))\n",
    "decoder_states_inputs = [decoder_state_input_h, decoder_state_input_c]\n",
    "\n",
    "dec_emb2= dec_emb_layer(decoder_inputs) # Get the embeddings of the decoder sequence\n",
    "\n",
    "# To predict the next word in the sequence, set the initial states to the states from the previous time step\n",
    "decoder_outputs2, state_h2, state_c2 = decoder_lstm(dec_emb2, initial_state=decoder_states_inputs)\n",
    "decoder_states2 = [state_h2, state_c2]\n",
    "decoder_outputs2 = decoder_dense(decoder_outputs2) # A dense softmax layer to generate prob dist. over the target vocabulary\n",
    "\n",
    "# Final decoder model\n",
    "decoder_model = Model(\n",
    "    [decoder_inputs] + decoder_states_inputs,\n",
    "    [decoder_outputs2] + decoder_states2)"
   ]
  },
  {
   "cell_type": "code",
   "execution_count": 72,
   "metadata": {},
   "outputs": [
    {
     "data": {
      "image/png": "[encoded data removed]",
      "text/plain": [
       "<IPython.core.display.Image object>"
      ]
     },
     "execution_count": 72,
     "metadata": {
      "image/png": {
       "height": 147,
       "width": 252
      }
     },
     "output_type": "execute_result"
    }
   ],
   "source": [
    "plot_model(encoder_model, to_file='encoder_model.png', show_shapes=True, show_layer_names=True)\n",
    "Image(retina=True, filename='encoder_model.png')"
   ]
  },
  {
   "cell_type": "code",
   "execution_count": 73,
   "metadata": {},
   "outputs": [
    {
     "data": {
      "image/png": "[encoded data removed]",
      "text/plain": [
       "<IPython.core.display.Image object>"
      ]
     },
     "execution_count": 73,
     "metadata": {
      "image/png": {
       "height": 202,
       "width": 620
      }
     },
     "output_type": "execute_result"
    }
   ],
   "source": [
    "plot_model(decoder_model, to_file='decoder_model.png', show_shapes=True, show_layer_names=True)\n",
    "Image(retina=True, filename='decoder_model.png')"
   ]
  },
  {
   "cell_type": "code",
   "execution_count": 89,
   "metadata": {},
   "outputs": [],
   "source": [
    "def decode_sequence(input_seq):\n",
    "    # Encode the input as state vectors.\n",
    "    states_value = encoder_model.predict(input_seq)\n",
    "    # Generate empty target sequence of length 1.\n",
    "    target_seq = np.zeros((1,1))\n",
    "    # Populate the first character of target sequence with the start character.\n",
    "    target_seq[0, 0] = word2idx_kan['start']\n",
    "\n",
    "    # Sampling loop for a batch of sequences\n",
    "    # (to simplify, here we assume a batch of size 1).\n",
    "    stop_condition = False\n",
    "    decoded_sentence = ''\n",
    "    while not stop_condition:\n",
    "        output_tokens, h, c = decoder_model.predict([target_seq] + states_value)\n",
    "\n",
    "        # Sample a token\n",
    "        sampled_token_index = np.argmax(output_tokens[0, -1, :])\n",
    "#         print(sampled_token_index)\n",
    "        sampled_char = idx2word_kan[sampled_token_index]\n",
    "        decoded_sentence += ' '+sampled_char\n",
    "\n",
    "        # Exit condition: either hit max length\n",
    "        # or find stop character.\n",
    "        if (sampled_char == '_END' or\n",
    "           len(decoded_sentence) > 50):\n",
    "            stop_condition = True\n",
    "\n",
    "        # Update the target sequence (of length 1).\n",
    "        target_seq = np.zeros((1,1))\n",
    "        target_seq[0, 0] = sampled_token_index\n",
    "\n",
    "        # Update states\n",
    "        states_value = [h, c]\n",
    "\n",
    "    return decoded_sentence"
   ]
  },
  {
   "cell_type": "markdown",
   "metadata": {},
   "source": [
    "## Train data prediction"
   ]
  },
  {
   "cell_type": "code",
   "execution_count": 110,
   "metadata": {},
   "outputs": [],
   "source": [
    "\n",
    "train_gen = generate_batch(input_data_train, out_data_train, batch_size = 1)\n",
    "k=-1"
   ]
  },
  {
   "cell_type": "code",
   "execution_count": 111,
   "metadata": {},
   "outputs": [
    {
     "name": "stdout",
     "output_type": "stream",
     "text": [
      "Input English sentence: ['filters successfully imported from s']\n",
      "Actual kannada Translation:  ನಿಂದ ಅಂಚೆಯನ್ನು ಯಶಸ್ವಿಯಾಗಿ ಆಮದು ಮಾಡಿಕೊಳ್ಳಲಾಗಿದೆ \n",
      "Predicted kannada Translation:  ಯಶಸ್ವಿಯಾಗಿ ಆಮದು ಯಶಸ್ವಿಯಾಗಿ ಆಮದು ಬಯಸುವಿರಾ end      \n"
     ]
    }
   ],
   "source": [
    "k+=1\n",
    "(input_seq, actual_output), _ = next(train_gen)\n",
    "decoded_sentence = decode_sequence(input_seq)\n",
    "print('Input English sentence:', X_train[k:k+1])\n",
    "print('Actual kannada Translation:', y_train[k:k+1][0][6:-4])\n",
    "print('Predicted kannada Translation:', decoded_sentence)\n"
   ]
  },
  {
   "cell_type": "code",
   "execution_count": 112,
   "metadata": {},
   "outputs": [
    {
     "name": "stdout",
     "output_type": "stream",
     "text": [
      "Input English sentence: ['error updating the current record']\n",
      "Actual kannada Translation:  ಪ್ರಸ್ತುತ ದಾಖಲೆಯನ್ನು ಪರಿಷ್ಕರಿಸುವಾಗ ದೋಷ \n",
      "Predicted kannada Translation:  ಪ್ರಸ್ತುತ ಈಗ ಉಳಿಸು end                         \n"
     ]
    }
   ],
   "source": [
    "k+=1\n",
    "(input_seq, actual_output), _ = next(train_gen)\n",
    "decoded_sentence = decode_sequence(input_seq)\n",
    "print('Input English sentence:', X_train[k:k+1])\n",
    "print('Actual kannada Translation:', y_train[k:k+1][0][6:-4])\n",
    "print('Predicted kannada Translation:', decoded_sentence[:-4])\n"
   ]
  },
  {
   "cell_type": "code",
   "execution_count": 113,
   "metadata": {},
   "outputs": [
    {
     "name": "stdout",
     "output_type": "stream",
     "text": [
      "Input English sentence: ['email recipient certificate']\n",
      "Actual kannada Translation:  ವಿಅಂಚೆ ಗ್ರಾಹಕ ಪ್ರಮಾಣೀಕರಣ ಪತ್ರ \n",
      "Predicted kannada Translation:  ವಿಅಂಚೆ ಪ್ರಮಾಣಪತ್ರ ವಿಅಂಚೆ ಎಂದು end             \n"
     ]
    }
   ],
   "source": [
    "k+=1\n",
    "(input_seq, actual_output), _ = next(train_gen)\n",
    "decoded_sentence = decode_sequence(input_seq)\n",
    "print('Input English sentence:', X_train[k:k+1])\n",
    "print('Actual kannada Translation:', y_train[k:k+1][0][6:-4])\n",
    "print('Predicted kannada Translation:', decoded_sentence[:-4])\n"
   ]
  },
  {
   "cell_type": "code",
   "execution_count": 114,
   "metadata": {},
   "outputs": [
    {
     "name": "stdout",
     "output_type": "stream",
     "text": [
      "Input English sentence: ['all excel documents contained in the following directory will be imported']\n",
      "Actual kannada Translation:  ಈ ಕೆಳಗಿನ ನಿರ್ದೇಶಿಕೆಯಲ್ಲಿರುವ ಎಲ್ಲಾ ಎಕ್ಸೆಲ್ ದಸ್ತಾವೇಜುಗಳನ್ನೂ ಆಮದು ಮಾಡಿಕೊಳ್ಳಲಾಗುತ್ತದೆ \n",
      "Predicted kannada Translation:  ಈ ಕೆಳಗಿನ ನಿರ್ದೇಶಿಕೆಯಲ್ಲಿರುವ ಎಲ್ಲಾ ಆಮದು ಎಲ್ಲಾ ಆಮದು\n"
     ]
    }
   ],
   "source": [
    "k+=1\n",
    "(input_seq, actual_output), _ = next(train_gen)\n",
    "decoded_sentence = decode_sequence(input_seq)\n",
    "print('Input English sentence:', X_train[k:k+1])\n",
    "print('Actual kannada Translation:', y_train[k:k+1][0][6:-4])\n",
    "print('Predicted kannada Translation:', decoded_sentence[:-4])\n"
   ]
  },
  {
   "cell_type": "markdown",
   "metadata": {},
   "source": [
    "## Test data prediction"
   ]
  },
  {
   "cell_type": "code",
   "execution_count": 116,
   "metadata": {},
   "outputs": [],
   "source": [
    "\n",
    "train_gen = generate_batch(input_data_test, out_data_test, batch_size = 1)\n",
    "k=-1"
   ]
  },
  {
   "cell_type": "code",
   "execution_count": 126,
   "metadata": {},
   "outputs": [
    {
     "name": "stdout",
     "output_type": "stream",
     "text": [
      "Input English sentence: ['close the attachment manager when all attachments are complete']\n",
      "Actual kannada Translation:  ಎಲ್ಲಾ ಲಗತ್ತಿಕೆಗಳೂ ಪೂರ್ತಿಯಾದಾಗ ಲಗತ್ತಿಕೆ ವ್ಯವಸ್ಥಾಪಕ ಕಿಟಕಿ ಮುಚ್ಚು \n",
      "Predicted kannada Translation:  ಎಲ್ಲ ಎಲ್ಲ ಸಂದೇಶಗಳನ್ನು ರದ್ದು ಮಾಡು end              \n"
     ]
    }
   ],
   "source": [
    "k+=1\n",
    "(input_seq, actual_output), _ = next(train_gen)\n",
    "decoded_sentence = decode_sequence(input_seq)\n",
    "print('Input English sentence:', X_test[k:k+1])\n",
    "print('Actual kannada Translation:', y_test[k:k+1][0][6:-4])\n",
    "print('Predicted kannada Translation:', decoded_sentence)\n"
   ]
  },
  {
   "cell_type": "code",
   "execution_count": 134,
   "metadata": {},
   "outputs": [
    {
     "name": "stdout",
     "output_type": "stream",
     "text": [
      "Input English sentence: ['add the following microsummary generatornnsource s']\n",
      "Actual kannada Translation:  ಕೆಳಗಿನ ಮೈಕ್ರೋ ಸಮರಿ ಜನರೇಟರ್ ಸೇರಿಸಲೋ ಮೂಲ  \n",
      "Predicted kannada Translation:  ಕೆಳಗಿನ ಕೆಳಗಿನ ಸಾಲಿನಲ್ಲಿ ಭಾಷಾಂತರಿಸ ಬೇಡಿ ಕೆಳಗಿನ ಸಾಲಿನಲ್ಲಿ\n"
     ]
    }
   ],
   "source": [
    "k+=1\n",
    "(input_seq, actual_output), _ = next(train_gen)\n",
    "decoded_sentence = decode_sequence(input_seq)\n",
    "print('Input English sentence:', X_test[k:k+1])\n",
    "print('Actual kannada Translation:', y_test[k:k+1][0][6:-4])\n",
    "print('Predicted kannada Translation:', decoded_sentence)\n"
   ]
  },
  {
   "cell_type": "code",
   "execution_count": 135,
   "metadata": {},
   "outputs": [
    {
     "name": "stdout",
     "output_type": "stream",
     "text": [
      "Input English sentence: ['creating database files']\n",
      "Actual kannada Translation:  ದತ್ತಸಂಚಯ ಕಡತಗಳನ್ನು ರಚಿಸುತ್ತಿದೆ \n",
      "Predicted kannada Translation:  ದತ್ತಸಂಚಯ ಕಡತಗಳನ್ನು ಕಡತಗಳನ್ನು end                  \n"
     ]
    }
   ],
   "source": [
    "k+=1\n",
    "(input_seq, actual_output), _ = next(train_gen)\n",
    "decoded_sentence = decode_sequence(input_seq)\n",
    "print('Input English sentence:', X_test[k:k+1])\n",
    "print('Actual kannada Translation:', y_test[k:k+1][0][6:-4])\n",
    "print('Predicted kannada Translation:', decoded_sentence)\n"
   ]
  },
  {
   "cell_type": "code",
   "execution_count": 136,
   "metadata": {},
   "outputs": [
    {
     "name": "stdout",
     "output_type": "stream",
     "text": [
      "Input English sentence: ['brandshortname thinks this message might be an email scam']\n",
      "Actual kannada Translation:  ಈ ಸಂದೇಶ ವಿಅಂಚೆ ಮೋಸದ ಜಾಲ ಎಂದು ಅಭಿಪ್ರಾಯ ಪಡುತ್ತದೆ ಈ ಸಂದೇಶವನ್ನು ವಿಅಂಚೆಯ ಮೋಸಗಾರಿಕೆ ಎಂಬುದಾಗಿ ಭಾವಿಸುತ್ತದೆ \n",
      "Predicted kannada Translation:  ಈ ಸಂದೇಶ ನಮೂದಿಸಿ end                               \n"
     ]
    }
   ],
   "source": [
    "k+=1\n",
    "(input_seq, actual_output), _ = next(train_gen)\n",
    "decoded_sentence = decode_sequence(input_seq)\n",
    "print('Input English sentence:', X_test[k:k+1])\n",
    "print('Actual kannada Translation:', y_test[k:k+1][0][6:-4])\n",
    "print('Predicted kannada Translation:', decoded_sentence)\n"
   ]
  },
  {
   "cell_type": "code",
   "execution_count": 142,
   "metadata": {},
   "outputs": [
    {
     "name": "stdout",
     "output_type": "stream",
     "text": [
      "Input English sentence: ['installs german support in productname productversion']\n",
      "Actual kannada Translation:  ಇದರಲ್ಲಿ ಜರ್ಮನ್ ಬೆಂಬಲವನ್ನು ಅನುಸ್ಥಾಪಿಸುತ್ತದೆ  \n",
      "Predicted kannada Translation:  ಇದರಲ್ಲಿ ನಿಮ್ಮ ಇದರಲ್ಲಿ ಆಯ್ಕೆಮಾಡು end               \n"
     ]
    }
   ],
   "source": [
    "k+=1\n",
    "(input_seq, actual_output), _ = next(train_gen)\n",
    "decoded_sentence = decode_sequence(input_seq)\n",
    "print('Input English sentence:', X_test[k:k+1])\n",
    "print('Actual kannada Translation:', y_test[k:k+1][0][6:-4])\n",
    "print('Predicted kannada Translation:', decoded_sentence)\n"
   ]
  },
  {
   "cell_type": "code",
   "execution_count": 143,
   "metadata": {},
   "outputs": [
    {
     "name": "stdout",
     "output_type": "stream",
     "text": [
      "Input English sentence: ['select file for floating frame']\n",
      "Actual kannada Translation:  ಚರ ಚೌಕಟ್ಟಿಗೆ ಕಡತ ಆಯ್ಕೆ ಮಾಡಿ \n",
      "Predicted kannada Translation:  ಕಡತ ಆಯ್ಕೆಮಾಡು end                                 \n"
     ]
    }
   ],
   "source": [
    "k+=1\n",
    "(input_seq, actual_output), _ = next(train_gen)\n",
    "decoded_sentence = decode_sequence(input_seq)\n",
    "print('Input English sentence:', X_test[k:k+1])\n",
    "print('Actual kannada Translation:', y_test[k:k+1][0][6:-4])\n",
    "print('Predicted kannada Translation:', decoded_sentence)\n"
   ]
  }
 ],
 "metadata": {
  "kernelspec": {
   "display_name": "Python 3",
   "language": "python",
   "name": "python3"
  },
  "language_info": {
   "codemirror_mode": {
    "name": "ipython",
    "version": 3
   },
   "file_extension": ".py",
   "mimetype": "text/x-python",
   "name": "python",
   "nbconvert_exporter": "python",
   "pygments_lexer": "ipython3",
   "version": "3.7.1"
  }
 },
 "nbformat": 4,
 "nbformat_minor": 2
}
